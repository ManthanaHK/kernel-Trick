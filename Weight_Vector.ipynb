{
  "nbformat": 4,
  "nbformat_minor": 0,
  "metadata": {
    "colab": {
      "provenance": []
    },
    "kernelspec": {
      "name": "python3",
      "display_name": "Python 3"
    },
    "language_info": {
      "name": "python"
    }
  },
  "cells": [
    {
      "cell_type": "code",
      "execution_count": 1,
      "metadata": {
        "colab": {
          "base_uri": "https://localhost:8080/"
        },
        "id": "ooP34xO1-gCI",
        "outputId": "dd6b597e-7e2d-4ff9-de39-7dfba05a149c"
      },
      "outputs": [
        {
          "output_type": "stream",
          "name": "stdout",
          "text": [
            "Mounted at /content/drive\n"
          ]
        }
      ],
      "source": [
        "from google.colab import drive\n",
        "drive.mount('/content/driove')"
      ]
    },
    {
      "cell_type": "code",
      "source": [
        "import pandas as pd\n",
        "from sklearn.preprocessing import StandardScaler\n",
        "from sklearn.svm import SVC\n",
        "\n",
        "# Load the dataset\n",
        "data = {\n",
        "    \"Gender\": [\"Male\", \"Male\", \"Female\", \"Female\", \"Male\"],\n",
        "    \"Age\": [19, 35, 26, 27, 19],\n",
        "    \"EstimatedSalary\": [19000, 20000, 43000, 57000, 76000],\n",
        "    \"Purchased\": [0, 0, 0, 1, 1]\n",
        "}\n",
        "dataset = pd.DataFrame(data)\n",
        "\n",
        "# Map Gender to numerical values\n",
        "dataset[\"Gender\"] = dataset[\"Gender\"].map({\"Male\": 0, \"Female\": 1})\n",
        "\n",
        "# Feature scaling\n",
        "scaler = StandardScaler()\n",
        "X = dataset[[\"Age\", \"EstimatedSalary\"]].values\n",
        "X_scaled = scaler.fit_transform(X)\n",
        "y = dataset[\"Purchased\"].values\n",
        "\n",
        "# Train SVM classifier\n",
        "svm_classifier = SVC(kernel=\"linear\", C=1.0)\n",
        "svm_classifier.fit(X_scaled, y)\n",
        "\n",
        "# Calculate weights and bias\n",
        "weights = svm_classifier.coef_[0]\n",
        "bias = svm_classifier.intercept_[0]\n",
        "\n",
        "# Hyperplane equation: w[0] * Age + w[1] * EstimatedSalary + b = 0\n",
        "\n",
        "# Make predictions (example)\n",
        "new_data = [[30, 150000], [25, 1000]]\n",
        "new_data_scaled = scaler.transform(new_data)\n",
        "predictions = svm_classifier.predict(new_data_scaled)\n",
        "\n",
        "# Print results\n",
        "print(\"Weights:\", weights)\n",
        "print(\"Bias:\", bias)\n",
        "print(\"Predictions:\", predictions)\n"
      ],
      "metadata": {
        "id": "OP-nmREuAbeJ"
      },
      "execution_count": null,
      "outputs": []
    },
    {
      "cell_type": "code",
      "source": [
        "import numpy as np\n",
        "import pandas as pd\n",
        "\n",
        "# Load the CSV file into a DataFrame\n",
        "csv_path = \"/content/drive/MyDrive/SVM Algoritham/Social_Network_Ads.csv\"\n",
        "df = pd.read_csv(csv_path)\n",
        "\n",
        "# Extract features and labels\n",
        "X = df.iloc[:, 1:-1].values\n",
        "y = df.iloc[:, -1].values\n",
        "\n",
        "# Load the trained perceptron weights and bias (replace these with your trained values)\n",
        "w_trained = np.array([0.00978933, 0.7911125 ])  # Replace with your trained weight vector\n",
        "b_trained = -0.18388647643566247 # Replace with your trained bias\n",
        "\n",
        "# Calculate the weights of each feature for each row\n",
        "weights_per_feature = X * w_trained\n",
        "\n",
        "# Print the weights of each feature for each row\n",
        "for i, weights in enumerate(weights_per_feature):\n",
        "    print(f\"Weights for features in row {i + 1}: {weights}\")\n",
        "\n",
        "w_normalized = w_trained / np.linalg.norm(w_trained)\n",
        "print(\"Normalized Weight Vector:\", w_normalized)\n"
      ],
      "metadata": {
        "id": "mTfFy5_fHmBK"
      },
      "execution_count": null,
      "outputs": []
    }
  ]
}